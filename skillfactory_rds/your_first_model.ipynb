{
 "cells": [
  {
   "cell_type": "markdown",
   "metadata": {},
   "source": [
    "# Загрузка Pandas и очистка данных"
   ]
  },
  {
   "cell_type": "code",
   "execution_count": 9,
   "metadata": {},
   "outputs": [],
   "source": [
    "from datetime import datetime\n",
    "import numpy as np\n",
    "import re\n",
    "import numpy as np\n",
    "import pandas as pd\n",
    "import pandas as pd\n",
    "import matplotlib.pyplot as plt\n",
    "import seaborn as sns\n",
    "from itertools import combinations\n",
    "from scipy.stats import ttest_ind"
   ]
  },
  {
   "cell_type": "code",
   "execution_count": 10,
   "metadata": {},
   "outputs": [],
   "source": [
    "df = pd.read_csv(\"main_task_new.csv\")"
   ]
  },
  {
   "cell_type": "markdown",
   "metadata": {},
   "source": [
    "Первоначальная версия датасета состоит из десяти столбцов, содержащих следующую информацию:\n",
    "\n",
    "+ Restaurant_id — идентификационный номер ресторана / сети ресторанов;\n",
    "+ City — город, в котором находится ресторан;\n",
    "+ Cuisine Style — кухня или кухни, к которым можно отнести блюда, предлагаемые в ресторане;\n",
    "+ Ranking — место, которое занимает данный ресторан среди всех ресторанов своего города;\n",
    "+ Rating — рейтинг ресторана по данным TripAdvisor (именно это значение должна будет предсказывать модель);\n",
    "+ Price Range — диапазон цен в ресторане;\n",
    "+ Number of Reviews — количество отзывов о ресторане;\n",
    "+ Reviews — данные о двух отзывах, которые отображаются на сайте ресторана;\n",
    "+ URL_TA — URL страницы ресторана на TripAdvisor;\n",
    "+ ID_TA — идентификатор ресторана в базе данных TripAdvisor."
   ]
  },
  {
   "cell_type": "code",
   "execution_count": 11,
   "metadata": {},
   "outputs": [
    {
     "data": {
      "text/html": [
       "<div>\n",
       "<style scoped>\n",
       "    .dataframe tbody tr th:only-of-type {\n",
       "        vertical-align: middle;\n",
       "    }\n",
       "\n",
       "    .dataframe tbody tr th {\n",
       "        vertical-align: top;\n",
       "    }\n",
       "\n",
       "    .dataframe thead th {\n",
       "        text-align: right;\n",
       "    }\n",
       "</style>\n",
       "<table border=\"1\" class=\"dataframe\">\n",
       "  <thead>\n",
       "    <tr style=\"text-align: right;\">\n",
       "      <th></th>\n",
       "      <th>Restaurant_id</th>\n",
       "      <th>City</th>\n",
       "      <th>Cuisine Style</th>\n",
       "      <th>Ranking</th>\n",
       "      <th>Rating</th>\n",
       "      <th>Price Range</th>\n",
       "      <th>Number of Reviews</th>\n",
       "      <th>Reviews</th>\n",
       "      <th>URL_TA</th>\n",
       "      <th>ID_TA</th>\n",
       "    </tr>\n",
       "  </thead>\n",
       "  <tbody>\n",
       "    <tr>\n",
       "      <th>0</th>\n",
       "      <td>id_5569</td>\n",
       "      <td>Paris</td>\n",
       "      <td>['European', 'French', 'International']</td>\n",
       "      <td>5570.0</td>\n",
       "      <td>3.5</td>\n",
       "      <td>$$ - $$$</td>\n",
       "      <td>194.0</td>\n",
       "      <td>[['Good food at your doorstep', 'A good hotel ...</td>\n",
       "      <td>/Restaurant_Review-g187147-d1912643-Reviews-R_...</td>\n",
       "      <td>d1912643</td>\n",
       "    </tr>\n",
       "    <tr>\n",
       "      <th>1</th>\n",
       "      <td>id_1535</td>\n",
       "      <td>Stockholm</td>\n",
       "      <td>NaN</td>\n",
       "      <td>1537.0</td>\n",
       "      <td>4.0</td>\n",
       "      <td>NaN</td>\n",
       "      <td>10.0</td>\n",
       "      <td>[['Unique cuisine', 'Delicious Nepalese food']...</td>\n",
       "      <td>/Restaurant_Review-g189852-d7992032-Reviews-Bu...</td>\n",
       "      <td>d7992032</td>\n",
       "    </tr>\n",
       "    <tr>\n",
       "      <th>2</th>\n",
       "      <td>id_352</td>\n",
       "      <td>London</td>\n",
       "      <td>['Japanese', 'Sushi', 'Asian', 'Grill', 'Veget...</td>\n",
       "      <td>353.0</td>\n",
       "      <td>4.5</td>\n",
       "      <td>$$$$</td>\n",
       "      <td>688.0</td>\n",
       "      <td>[['Catch up with friends', 'Not exceptional'],...</td>\n",
       "      <td>/Restaurant_Review-g186338-d8632781-Reviews-RO...</td>\n",
       "      <td>d8632781</td>\n",
       "    </tr>\n",
       "    <tr>\n",
       "      <th>3</th>\n",
       "      <td>id_3456</td>\n",
       "      <td>Berlin</td>\n",
       "      <td>NaN</td>\n",
       "      <td>3458.0</td>\n",
       "      <td>5.0</td>\n",
       "      <td>NaN</td>\n",
       "      <td>3.0</td>\n",
       "      <td>[[], []]</td>\n",
       "      <td>/Restaurant_Review-g187323-d1358776-Reviews-Es...</td>\n",
       "      <td>d1358776</td>\n",
       "    </tr>\n",
       "    <tr>\n",
       "      <th>4</th>\n",
       "      <td>id_615</td>\n",
       "      <td>Munich</td>\n",
       "      <td>['German', 'Central European', 'Vegetarian Fri...</td>\n",
       "      <td>621.0</td>\n",
       "      <td>4.0</td>\n",
       "      <td>$$ - $$$</td>\n",
       "      <td>84.0</td>\n",
       "      <td>[['Best place to try a Bavarian food', 'Nice b...</td>\n",
       "      <td>/Restaurant_Review-g187309-d6864963-Reviews-Au...</td>\n",
       "      <td>d6864963</td>\n",
       "    </tr>\n",
       "    <tr>\n",
       "      <th>5</th>\n",
       "      <td>id_1418</td>\n",
       "      <td>Oporto</td>\n",
       "      <td>NaN</td>\n",
       "      <td>1419.0</td>\n",
       "      <td>3.0</td>\n",
       "      <td>NaN</td>\n",
       "      <td>2.0</td>\n",
       "      <td>[['There are better 3 star hotel bars', 'Amazi...</td>\n",
       "      <td>/Restaurant_Review-g189180-d12503536-Reviews-D...</td>\n",
       "      <td>d12503536</td>\n",
       "    </tr>\n",
       "  </tbody>\n",
       "</table>\n",
       "</div>"
      ],
      "text/plain": [
       "  Restaurant_id       City                                      Cuisine Style  \\\n",
       "0       id_5569      Paris            ['European', 'French', 'International']   \n",
       "1       id_1535  Stockholm                                                NaN   \n",
       "2        id_352     London  ['Japanese', 'Sushi', 'Asian', 'Grill', 'Veget...   \n",
       "3       id_3456     Berlin                                                NaN   \n",
       "4        id_615     Munich  ['German', 'Central European', 'Vegetarian Fri...   \n",
       "5       id_1418     Oporto                                                NaN   \n",
       "\n",
       "   Ranking  Rating Price Range  Number of Reviews  \\\n",
       "0   5570.0     3.5    $$ - $$$              194.0   \n",
       "1   1537.0     4.0         NaN               10.0   \n",
       "2    353.0     4.5        $$$$              688.0   \n",
       "3   3458.0     5.0         NaN                3.0   \n",
       "4    621.0     4.0    $$ - $$$               84.0   \n",
       "5   1419.0     3.0         NaN                2.0   \n",
       "\n",
       "                                             Reviews  \\\n",
       "0  [['Good food at your doorstep', 'A good hotel ...   \n",
       "1  [['Unique cuisine', 'Delicious Nepalese food']...   \n",
       "2  [['Catch up with friends', 'Not exceptional'],...   \n",
       "3                                           [[], []]   \n",
       "4  [['Best place to try a Bavarian food', 'Nice b...   \n",
       "5  [['There are better 3 star hotel bars', 'Amazi...   \n",
       "\n",
       "                                              URL_TA      ID_TA  \n",
       "0  /Restaurant_Review-g187147-d1912643-Reviews-R_...   d1912643  \n",
       "1  /Restaurant_Review-g189852-d7992032-Reviews-Bu...   d7992032  \n",
       "2  /Restaurant_Review-g186338-d8632781-Reviews-RO...   d8632781  \n",
       "3  /Restaurant_Review-g187323-d1358776-Reviews-Es...   d1358776  \n",
       "4  /Restaurant_Review-g187309-d6864963-Reviews-Au...   d6864963  \n",
       "5  /Restaurant_Review-g189180-d12503536-Reviews-D...  d12503536  "
      ]
     },
     "execution_count": 11,
     "metadata": {},
     "output_type": "execute_result"
    }
   ],
   "source": [
    "df.head(6)"
   ]
  },
  {
   "cell_type": "code",
   "execution_count": 12,
   "metadata": {},
   "outputs": [
    {
     "name": "stdout",
     "output_type": "stream",
     "text": [
      "<class 'pandas.core.frame.DataFrame'>\n",
      "RangeIndex: 40000 entries, 0 to 39999\n",
      "Data columns (total 10 columns):\n",
      " #   Column             Non-Null Count  Dtype  \n",
      "---  ------             --------------  -----  \n",
      " 0   Restaurant_id      40000 non-null  object \n",
      " 1   City               40000 non-null  object \n",
      " 2   Cuisine Style      30717 non-null  object \n",
      " 3   Ranking            40000 non-null  float64\n",
      " 4   Rating             40000 non-null  float64\n",
      " 5   Price Range        26114 non-null  object \n",
      " 6   Number of Reviews  37457 non-null  float64\n",
      " 7   Reviews            40000 non-null  object \n",
      " 8   URL_TA             40000 non-null  object \n",
      " 9   ID_TA              40000 non-null  object \n",
      "dtypes: float64(3), object(7)\n",
      "memory usage: 3.1+ MB\n"
     ]
    }
   ],
   "source": [
    "df.info()"
   ]
  },
  {
   "cell_type": "code",
   "execution_count": 13,
   "metadata": {},
   "outputs": [],
   "source": [
    "df.rename(columns = {'Number of Reviews':'Number_of_Reviews'}, inplace = True)\n",
    "df.rename(columns = {'Cuisine Style':'Cuisine_Style'}, inplace = True)\n",
    "df.rename(columns = {'Price Range':'Price_Range'}, inplace = True)"
   ]
  },
  {
   "cell_type": "code",
   "execution_count": 14,
   "metadata": {},
   "outputs": [
    {
     "data": {
      "text/plain": [
       "count    37457.000000\n",
       "mean       124.825480\n",
       "std        295.666352\n",
       "min          2.000000\n",
       "25%          9.000000\n",
       "50%         33.000000\n",
       "75%        115.000000\n",
       "max       9660.000000\n",
       "Name: Number_of_Reviews, dtype: float64"
      ]
     },
     "execution_count": 14,
     "metadata": {},
     "output_type": "execute_result"
    },
    {
     "data": {
      "image/png": "[encoded data removed]",
      "text/plain": [
       "<Figure size 432x288 with 1 Axes>"
      ]
     },
     "metadata": {
      "needs_background": "light"
     },
     "output_type": "display_data"
    }
   ],
   "source": [
    "df.Number_of_Reviews.hist()\n",
    "df.Number_of_Reviews.describe()"
   ]
  },
  {
   "cell_type": "code",
   "execution_count": 15,
   "metadata": {},
   "outputs": [],
   "source": [
    "df.loc[df['Number_of_Reviews'] > 2000, 'Number_of_Reviews'] = 2000 #Больше 2000 отзывов считаем отклонением и приравниваем к 2000"
   ]
  },
  {
   "cell_type": "code",
   "execution_count": 16,
   "metadata": {
    "scrolled": true
   },
   "outputs": [],
   "source": [
    "df['Number_of_Reviews'] = df.Number_of_Reviews.fillna(0) #считаем пустые значения-0 отзывов"
   ]
  },
  {
   "cell_type": "code",
   "execution_count": 17,
   "metadata": {},
   "outputs": [
    {
     "data": {
      "text/plain": [
       "$$ - $$$    18412\n",
       "$            6279\n",
       "$$$$         1423\n",
       "Name: Price_Range, dtype: int64"
      ]
     },
     "execution_count": 17,
     "metadata": {},
     "output_type": "execute_result"
    }
   ],
   "source": [
    "df.Price_Range.value_counts() #Считаем кол-во цен"
   ]
  },
  {
   "cell_type": "code",
   "execution_count": 20,
   "metadata": {},
   "outputs": [
    {
     "data": {
      "text/plain": [
       "City       price\n",
       "Amsterdam  2        644\n",
       "           1        163\n",
       "           3         31\n",
       "Athens     2        275\n",
       "           1        137\n",
       "                   ... \n",
       "Warsaw     1        111\n",
       "           3         28\n",
       "Zurich     2        293\n",
       "           1         47\n",
       "           3         34\n",
       "Name: price, Length: 93, dtype: int64"
      ]
     },
     "execution_count": 20,
     "metadata": {},
     "output_type": "execute_result"
    }
   ],
   "source": [
    "#df.groupby(['City'])['price'].value_counts() #не смогла додуматься как отфильтровать и вставить максимально значение по городам"
   ]
  },
  {
   "cell_type": "code",
   "execution_count": 23,
   "metadata": {},
   "outputs": [],
   "source": [
    "df['Price_Range'] = df['Price_Range'].apply(\n",
    "    lambda x: df['Price_Range'].mode()[0] if pd.isna(x) == True else x) #Вставили моду в пустые значения"
   ]
  },
  {
   "cell_type": "code",
   "execution_count": 24,
   "metadata": {},
   "outputs": [],
   "source": [
    "df['price'] = df['Price_Range'].replace({'$$ - $$$':'2','$':'1','$$$$':'3'})# Заменяем $ значения на числовые категории"
   ]
  },
  {
   "cell_type": "code",
   "execution_count": 22,
   "metadata": {},
   "outputs": [
    {
     "data": {
      "text/plain": [
       "31"
      ]
     },
     "execution_count": 22,
     "metadata": {},
     "output_type": "execute_result"
    }
   ],
   "source": [
    "len(df.City.value_counts()) #Считаем кол-во городав в df"
   ]
  },
  {
   "cell_type": "markdown",
   "metadata": {},
   "source": [
    "Добавляем столбцы с общедоступными данными по городам (Население, кол-во ресторанов в городе)"
   ]
  },
  {
   "cell_type": "code",
   "execution_count": 25,
   "metadata": {},
   "outputs": [],
   "source": [
    "df['population'] = df['City'].replace({'London':'8908081','Paris':'2148327','Stockholm':'961609','Berlin':'3644826 ','Munich':'1471508',\n",
    "                                       'Oporto':'287591','Milan':'1366180','Bratislava':'437725','Vienna':'1911191','Rome':'2870500'\n",
    "                                      ,'Barcelona':'1664182','Madrid':'3334730','Dublin':'1173179','Brussels':'185103','Zurich':'434008',\n",
    "                                       'Warsaw':'1790658','Budapest':'1752286','Copenhagen':'794128','Amsterdam':'860124','Lyon':'518635'\n",
    "                                      ,'Hamburg':'1845229','Lisbon':'506654','Prague':'1335084','Oslo':'693494'\n",
    "                                      ,'Helsinki':'655281','Edinburgh':'488050','Geneva':'201818','Ljubljana':'286745','Athens':'664046'\n",
    "                                      ,'Luxembourg':'633622','Krakow':'779115'})"
   ]
  },
  {
   "cell_type": "code",
   "execution_count": 26,
   "metadata": {},
   "outputs": [],
   "source": [
    "df['count_restrant_city'] = df['City'].replace({'London':'17199','Paris':'15606','Stockholm':'2781','Berlin':'5738','Munich':'2870',\n",
    "                                       'Oporto':'1845','Milan':'6737','Bratislava':'1045','Vienna':'3794','Rome':'10340'\n",
    "                                      ,'Barcelona':'8709','Madrid':'10325','Dublin':'2105','Brussels':'2369','Zurich':'1671',\n",
    "                                       'Warsaw':'2776','Budapest':'2786','Copenhagen':'1989','Amsterdam':'3664','Lyon':'2570'\n",
    "                                      ,'Hamburg':'2879','Lisbon':'4561','Prague':'4649','Oslo':'1186'\n",
    "                                      ,'Helsinki':'1381','Edinburgh':'1763','Geneva':'1345','Ljubljana':'539','Athens':'2352'\n",
    "                                      ,'Luxembourg':'662','Krakow':'1527'})"
   ]
  },
  {
   "cell_type": "code",
   "execution_count": 27,
   "metadata": {},
   "outputs": [
    {
     "data": {
      "text/plain": [
       "id_436     18\n",
       "id_633     18\n",
       "id_871     18\n",
       "id_227     18\n",
       "id_430     17\n",
       "           ..\n",
       "id_8306     3\n",
       "id_4752     3\n",
       "id_2047     3\n",
       "id_7517     3\n",
       "id_4890     3\n",
       "Name: Restaurant_id, Length: 4887, dtype: int64"
      ]
     },
     "execution_count": 27,
     "metadata": {},
     "output_type": "execute_result"
    }
   ],
   "source": [
    "rest_count = df.Restaurant_id.value_counts() \n",
    "rest_count[rest_count>2] #создаём список сетевых ресторанов"
   ]
  },
  {
   "cell_type": "code",
   "execution_count": 28,
   "metadata": {},
   "outputs": [
    {
     "data": {
      "text/plain": [
       "0                            European,French,International\n",
       "1                                      Vegetarian Friendly\n",
       "2        Japanese,Sushi,Asian,Grill,Vegetarian Friendly...\n",
       "3                                      Vegetarian Friendly\n",
       "4              German,Central European,Vegetarian Friendly\n",
       "                               ...                        \n",
       "39995    Italian,Vegetarian Friendly,Vegan Options,Glut...\n",
       "39996     French,American,Bar,European,Vegetarian Friendly\n",
       "39997                                       Japanese,Sushi\n",
       "39998    Polish,European,Eastern European,Central Europ...\n",
       "39999                                              Spanish\n",
       "Name: Cuisine_Style, Length: 40000, dtype: object"
      ]
     },
     "execution_count": 28,
     "metadata": {},
     "output_type": "execute_result"
    }
   ],
   "source": [
    "from collections import Counter\n",
    "def replace_cuisine(x):\n",
    "    if pd.isna(x):\n",
    "        return x # NaN остается как есть, на nan не меняем\n",
    "    else:\n",
    "        replace_list = ['[',']',\"'\"]\n",
    "        for value in replace_list:\n",
    "            x = x.replace(value,'')\n",
    "        return x.replace(', ',',')\n",
    "\n",
    "# чистим значения в столбце\n",
    "df['Cuisine_Style'] = df['Cuisine_Style'].apply(replace_cuisine)\n",
    "# Считаем частоту каждой из кухонь\n",
    "max_count_cusine = Counter(df['Cuisine_Style'].str.cat(sep=',').split(','))\n",
    "# Сортируем полученный словарь по убыванию и берем первую кухню\n",
    "max_cuisine_list = list(max_count_cusine.items())\n",
    "max_cuisine_list.sort(key=lambda i: i[1],reverse=True)\n",
    "max_cuisine_list = list(dict(max_cuisine_list[:1]).keys())\n",
    "max_cuisine_list =  ','.join(max_cuisine_list)\n",
    "# меняем NaN на самую популярную кухню\n",
    "df['Cuisine_Style'] = df['Cuisine_Style'].apply(lambda x: max_cuisine_list if pd.isna(x) else x)\n",
    "df['Cuisine_Style']"
   ]
  },
  {
   "cell_type": "markdown",
   "metadata": {},
   "source": [
    "Вместо пропущенных значений втавили самый часто встечаемый тип кухни"
   ]
  },
  {
   "cell_type": "code",
   "execution_count": 29,
   "metadata": {},
   "outputs": [
    {
     "data": {
      "text/plain": [
       "'Vegetarian Friendly'"
      ]
     },
     "execution_count": 29,
     "metadata": {},
     "output_type": "execute_result"
    }
   ],
   "source": [
    "max_cuisine_list"
   ]
  },
  {
   "cell_type": "code",
   "execution_count": 30,
   "metadata": {},
   "outputs": [
    {
     "data": {
      "text/plain": [
       "29.3"
      ]
     },
     "execution_count": 30,
     "metadata": {},
     "output_type": "execute_result"
    }
   ],
   "source": [
    "round(df['Cuisine_Style'].apply(lambda x: len(x)).mean(),1)"
   ]
  },
  {
   "cell_type": "code",
   "execution_count": 31,
   "metadata": {},
   "outputs": [],
   "source": [
    "df['Cuisine_Style_list'] = df['Cuisine_Style'].apply(lambda x:x.split(','))\n",
    "df_expl = df.explode('Cuisine_Style_list')"
   ]
  },
  {
   "cell_type": "code",
   "execution_count": 34,
   "metadata": {},
   "outputs": [
    {
     "data": {
      "text/plain": [
       "0                   European\n",
       "0                     French\n",
       "0              International\n",
       "1        Vegetarian Friendly\n",
       "2                   Japanese\n",
       "                ...         \n",
       "39998               European\n",
       "39998       Eastern European\n",
       "39998       Central European\n",
       "39998    Vegetarian Friendly\n",
       "39999                Spanish\n",
       "Name: Cuisine_Style_list, Length: 104896, dtype: object"
      ]
     },
     "execution_count": 34,
     "metadata": {},
     "output_type": "execute_result"
    }
   ],
   "source": [
    "df_expl.Cuisine_Style_list #Список кухонь"
   ]
  },
  {
   "cell_type": "code",
   "execution_count": 35,
   "metadata": {},
   "outputs": [
    {
     "data": {
      "text/plain": [
       "0        [['Good food at your doorstep', 'A good hotel ...\n",
       "1        [['Unique cuisine', 'Delicious Nepalese food']...\n",
       "2        [['Catch up with friends', 'Not exceptional'],...\n",
       "3                                                 [[], []]\n",
       "4        [['Best place to try a Bavarian food', 'Nice b...\n",
       "                               ...                        \n",
       "39995    [['The real Italian experience!', 'Wonderful f...\n",
       "39996    [['Parisian atmosphere', 'Bit pricey but inter...\n",
       "39997    [['Good by swedish standards', 'A hidden jewel...\n",
       "39998    [['Underground restaurant', 'Oldest Restaurant...\n",
       "39999    [['Average', 'Nice an informal'], ['01/31/2016...\n",
       "Name: Reviews, Length: 40000, dtype: object"
      ]
     },
     "execution_count": 35,
     "metadata": {},
     "output_type": "execute_result"
    }
   ],
   "source": [
    "df.Reviews"
   ]
  },
  {
   "cell_type": "code",
   "execution_count": 36,
   "metadata": {},
   "outputs": [],
   "source": [
    "pattern=re.compile('\\d+[/]\\d+[/]\\d+')\n",
    "df[\"Reviews_date\"]=df.Reviews.apply(lambda x:re.findall(pattern,x))\n",
    "df[\"Reviews_date\"]=df[\"Reviews_date\"].apply(lambda y:[pd.to_datetime(item)for item in y])"
   ]
  },
  {
   "cell_type": "code",
   "execution_count": 37,
   "metadata": {},
   "outputs": [
    {
     "data": {
      "text/plain": [
       "[Timestamp('2018-02-26 00:00:00'), Timestamp('2018-02-26 00:00:00')]"
      ]
     },
     "execution_count": 37,
     "metadata": {},
     "output_type": "execute_result"
    }
   ],
   "source": [
    "df[\"Reviews_date\"].max()"
   ]
  },
  {
   "cell_type": "code",
   "execution_count": 38,
   "metadata": {},
   "outputs": [],
   "source": [
    "pattern = re.compile('\\'\\d+\\/\\d+\\/\\d+\\'')\n",
    "dates = df['Reviews'].apply(pattern.findall)\n",
    "# врeменные признаки\n",
    "df['date1'] = pd.to_datetime(dates.apply(lambda x: x[0] if len(x) > 0 else None))\n",
    "df['date2'] = pd.to_datetime(dates.apply(lambda x: x[1] if len(x) > 1 else None))"
   ]
  },
  {
   "cell_type": "code",
   "execution_count": 39,
   "metadata": {},
   "outputs": [
    {
     "data": {
      "text/plain": [
       "Timestamp('2017-12-31 00:00:00')"
      ]
     },
     "execution_count": 39,
     "metadata": {},
     "output_type": "execute_result"
    }
   ],
   "source": [
    "df['date1'][0]"
   ]
  },
  {
   "cell_type": "code",
   "execution_count": 40,
   "metadata": {},
   "outputs": [
    {
     "data": {
      "text/plain": [
       "Timestamp('2017-11-20 00:00:00')"
      ]
     },
     "execution_count": 40,
     "metadata": {},
     "output_type": "execute_result"
    }
   ],
   "source": [
    "df['date2'][0]"
   ]
  },
  {
   "cell_type": "code",
   "execution_count": 41,
   "metadata": {},
   "outputs": [],
   "source": [
    "df['days_publish']=df['date1']-df['date2']"
   ]
  },
  {
   "cell_type": "code",
   "execution_count": 42,
   "metadata": {},
   "outputs": [
    {
     "data": {
      "text/plain": [
       "Timedelta('3207 days 00:00:00')"
      ]
     },
     "execution_count": 42,
     "metadata": {},
     "output_type": "execute_result"
    }
   ],
   "source": [
    "df['days_publish'].max()"
   ]
  },
  {
   "cell_type": "code",
   "execution_count": 43,
   "metadata": {},
   "outputs": [
    {
     "data": {
      "text/plain": [
       "0         41 days\n",
       "1        382 days\n",
       "2          2 days\n",
       "3             NaT\n",
       "4        272 days\n",
       "           ...   \n",
       "39995     34 days\n",
       "39996      9 days\n",
       "39997   3127 days\n",
       "39998     23 days\n",
       "39999   1306 days\n",
       "Name: days_publish, Length: 40000, dtype: timedelta64[ns]"
      ]
     },
     "execution_count": 43,
     "metadata": {},
     "output_type": "execute_result"
    }
   ],
   "source": [
    "df['days_publish']"
   ]
  },
  {
   "cell_type": "code",
   "execution_count": 44,
   "metadata": {},
   "outputs": [],
   "source": [
    "df['days_publish'] = df.days_publish.apply(lambda x: x.days)"
   ]
  },
  {
   "cell_type": "code",
   "execution_count": 45,
   "metadata": {},
   "outputs": [],
   "source": [
    "df['year1'] = df.date1.apply(lambda x: x.year)"
   ]
  },
  {
   "cell_type": "code",
   "execution_count": 46,
   "metadata": {},
   "outputs": [],
   "source": [
    "df['year2'] = df.date2.apply(lambda x: x.year)"
   ]
  },
  {
   "cell_type": "code",
   "execution_count": 47,
   "metadata": {},
   "outputs": [],
   "source": [
    "df['year_max'] = df[['year1','year2']].apply(lambda x: x[0] if x[0]>x[1] else x[1],axis=1)"
   ]
  },
  {
   "cell_type": "code",
   "execution_count": 48,
   "metadata": {},
   "outputs": [],
   "source": [
    "df['date1'] = df.date1.fillna(0)"
   ]
  },
  {
   "cell_type": "code",
   "execution_count": 49,
   "metadata": {},
   "outputs": [],
   "source": [
    "df['date2'] = df.date2.fillna(0)"
   ]
  },
  {
   "cell_type": "code",
   "execution_count": 50,
   "metadata": {},
   "outputs": [],
   "source": [
    "df['days_publish'] = df.days_publish.fillna(0)"
   ]
  },
  {
   "cell_type": "code",
   "execution_count": 51,
   "metadata": {},
   "outputs": [],
   "source": [
    "df['year_max'] = df.year_max.fillna(0)"
   ]
  },
  {
   "cell_type": "code",
   "execution_count": 52,
   "metadata": {},
   "outputs": [],
   "source": [
    "df['year1'] = df.year1.fillna(0)"
   ]
  },
  {
   "cell_type": "code",
   "execution_count": 53,
   "metadata": {},
   "outputs": [],
   "source": [
    "df['year2'] = df.year2.fillna(0)"
   ]
  },
  {
   "cell_type": "code",
   "execution_count": 54,
   "metadata": {},
   "outputs": [
    {
     "name": "stdout",
     "output_type": "stream",
     "text": [
      "<class 'pandas.core.frame.DataFrame'>\n",
      "RangeIndex: 40000 entries, 0 to 39999\n",
      "Data columns (total 21 columns):\n",
      " #   Column               Non-Null Count  Dtype  \n",
      "---  ------               --------------  -----  \n",
      " 0   Restaurant_id        40000 non-null  object \n",
      " 1   City                 40000 non-null  object \n",
      " 2   Cuisine_Style        40000 non-null  object \n",
      " 3   Ranking              40000 non-null  float64\n",
      " 4   Rating               40000 non-null  float64\n",
      " 5   Price_Range          40000 non-null  object \n",
      " 6   Number_of_Reviews    40000 non-null  float64\n",
      " 7   Reviews              40000 non-null  object \n",
      " 8   URL_TA               40000 non-null  object \n",
      " 9   ID_TA                40000 non-null  object \n",
      " 10  price                40000 non-null  object \n",
      " 11  population           40000 non-null  object \n",
      " 12  count_restrant_city  40000 non-null  object \n",
      " 13  Cuisine_Style_list   40000 non-null  object \n",
      " 14  Reviews_date         40000 non-null  object \n",
      " 15  date1                40000 non-null  object \n",
      " 16  date2                40000 non-null  object \n",
      " 17  days_publish         40000 non-null  float64\n",
      " 18  year1                40000 non-null  float64\n",
      " 19  year2                40000 non-null  float64\n",
      " 20  year_max             40000 non-null  float64\n",
      "dtypes: float64(7), object(14)\n",
      "memory usage: 6.4+ MB\n"
     ]
    }
   ],
   "source": [
    "df.info()"
   ]
  },
  {
   "cell_type": "code",
   "execution_count": 636,
   "metadata": {},
   "outputs": [],
   "source": [
    "df = pd.concat([df,pd.get_dummies(df.City)],axis=1)"
   ]
  },
  {
   "cell_type": "code",
   "execution_count": 55,
   "metadata": {},
   "outputs": [],
   "source": [
    "#df = pd.concat([df,pd.get_dummies(df.Price_Range)],axis=1) #Наименее предпочительный вариант, так как модель показывает значения хуже"
   ]
  },
  {
   "cell_type": "code",
   "execution_count": 577,
   "metadata": {},
   "outputs": [],
   "source": [
    "#cuisine_list = list(count_cusine.items())\n",
    "#cuisine_list.sort(key=lambda i: i[1],reverse=True)\n",
    "#cuisine_list4 = list(dict(cuisine_list[:3]).keys())\n",
    "#cuisine_list4 =  ','.join(str(x) for x in cuisine_list)"
   ]
  },
  {
   "cell_type": "code",
   "execution_count": 585,
   "metadata": {},
   "outputs": [
    {
     "data": {
      "text/plain": [
       "[('Vegetarian Friendly', 20472),\n",
       " ('European', 10060),\n",
       " ('Mediterranean', 6277),\n",
       " ('Italian', 5964),\n",
       " ('Vegan Options', 4486),\n",
       " ('Gluten Free Options', 4113),\n",
       " ('Bar', 3297),\n",
       " ('French', 3190),\n",
       " ('Asian', 3011),\n",
       " ('Pizza', 2849),\n",
       " ('Spanish', 2798),\n",
       " ('Pub', 2449),\n",
       " ('Cafe', 2325),\n",
       " ('Fast Food', 1705),\n",
       " ('British', 1595),\n",
       " ('International', 1584),\n",
       " ('Seafood', 1505),\n",
       " ('Japanese', 1464),\n",
       " ('Central European', 1393),\n",
       " ('American', 1315),\n",
       " ('Sushi', 1156),\n",
       " ('Chinese', 1145),\n",
       " ('Portuguese', 1107),\n",
       " ('Indian', 1041),\n",
       " ('Middle Eastern', 782),\n",
       " ('Thai', 743),\n",
       " ('Wine Bar', 697),\n",
       " ('German', 662),\n",
       " ('Healthy', 620),\n",
       " ('Greek', 604),\n",
       " ('Halal', 598),\n",
       " ('Czech', 595),\n",
       " ('Fusion', 577),\n",
       " ('Steakhouse', 573),\n",
       " ('Barbecue', 555),\n",
       " ('Contemporary', 523),\n",
       " ('Vietnamese', 513),\n",
       " ('Eastern European', 496),\n",
       " ('Soups', 494),\n",
       " ('Grill', 490),\n",
       " ('Gastropub', 471),\n",
       " ('Mexican', 445),\n",
       " ('Turkish', 444),\n",
       " ('Delicatessen', 392),\n",
       " ('Austrian', 380),\n",
       " ('South American', 372),\n",
       " ('Polish', 365),\n",
       " ('Hungarian', 352),\n",
       " ('Scandinavian', 342),\n",
       " ('Lebanese', 329),\n",
       " ('Latin', 302),\n",
       " ('Diner', 295),\n",
       " ('Dutch', 294),\n",
       " ('Irish', 284),\n",
       " ('Belgian', 270),\n",
       " ('Street Food', 263),\n",
       " ('Brew Pub', 225),\n",
       " ('Swiss', 178),\n",
       " ('Danish', 177),\n",
       " ('Swedish', 171),\n",
       " ('Argentinean', 169),\n",
       " ('Korean', 167),\n",
       " ('Scottish', 163),\n",
       " ('African', 154),\n",
       " ('Moroccan', 141),\n",
       " ('Central American', 135),\n",
       " ('Brazilian', 127),\n",
       " ('Pakistani', 123),\n",
       " ('Peruvian', 94),\n",
       " ('Caribbean', 93),\n",
       " ('Nepali', 83),\n",
       " ('Balti', 83),\n",
       " ('Bangladeshi', 76),\n",
       " ('Norwegian', 75),\n",
       " ('Israeli', 74),\n",
       " ('Slovenian', 68),\n",
       " ('Indonesian', 59),\n",
       " ('Russian', 58),\n",
       " ('Persian', 53),\n",
       " ('Arabic', 51),\n",
       " ('Kosher', 48),\n",
       " ('Ethiopian', 42),\n",
       " ('Venezuelan', 40),\n",
       " ('Malaysian', 31),\n",
       " ('Croatian', 27),\n",
       " ('Jamaican', 25),\n",
       " ('Sri Lankan', 25),\n",
       " ('Tibetan', 24),\n",
       " ('Australian', 24),\n",
       " ('Cuban', 23),\n",
       " ('Taiwanese', 22),\n",
       " ('Afghani', 22),\n",
       " ('Hawaiian', 21),\n",
       " ('Tunisian', 21),\n",
       " ('Egyptian', 20),\n",
       " ('Colombian', 20),\n",
       " ('Cambodian', 20),\n",
       " ('Cajun & Creole', 20),\n",
       " ('Singaporean', 19),\n",
       " ('Ukrainian', 18),\n",
       " ('Southwestern', 17),\n",
       " ('Georgian', 17),\n",
       " ('Mongolian', 14),\n",
       " ('Armenian', 14),\n",
       " ('Central Asian', 12),\n",
       " ('Filipino', 12),\n",
       " ('Minority Chinese', 11),\n",
       " ('Romanian', 10),\n",
       " ('Chilean', 8),\n",
       " ('Albanian', 8),\n",
       " ('New Zealand', 6),\n",
       " ('Uzbek', 5),\n",
       " ('Canadian', 5),\n",
       " ('Ecuadorean', 4),\n",
       " ('Caucasian', 4),\n",
       " ('Native American', 4),\n",
       " ('Polynesian', 2),\n",
       " ('Azerbaijani', 2),\n",
       " ('Fujian', 2),\n",
       " ('Welsh', 2),\n",
       " ('Salvadoran', 1),\n",
       " ('Yunnan', 1),\n",
       " ('Xinjiang', 1),\n",
       " ('Burmese', 1),\n",
       " ('Latvian', 1)]"
      ]
     },
     "execution_count": 585,
     "metadata": {},
     "output_type": "execute_result"
    }
   ],
   "source": [
    "#cuisine_list"
   ]
  },
  {
   "cell_type": "code",
   "execution_count": 594,
   "metadata": {},
   "outputs": [
    {
     "data": {
      "text/html": [
       "<div>\n",
       "<style scoped>\n",
       "    .dataframe tbody tr th:only-of-type {\n",
       "        vertical-align: middle;\n",
       "    }\n",
       "\n",
       "    .dataframe tbody tr th {\n",
       "        vertical-align: top;\n",
       "    }\n",
       "\n",
       "    .dataframe thead th {\n",
       "        text-align: right;\n",
       "    }\n",
       "</style>\n",
       "<table border=\"1\" class=\"dataframe\">\n",
       "  <thead>\n",
       "    <tr style=\"text-align: right;\">\n",
       "      <th></th>\n",
       "      <th>Afghani</th>\n",
       "      <th>African</th>\n",
       "      <th>Albanian</th>\n",
       "      <th>American</th>\n",
       "      <th>Arabic</th>\n",
       "      <th>Argentinean</th>\n",
       "      <th>Armenian</th>\n",
       "      <th>Asian</th>\n",
       "      <th>Australian</th>\n",
       "      <th>Austrian</th>\n",
       "      <th>...</th>\n",
       "      <th>Ukrainian</th>\n",
       "      <th>Uzbek</th>\n",
       "      <th>Vegan Options</th>\n",
       "      <th>Vegetarian Friendly</th>\n",
       "      <th>Venezuelan</th>\n",
       "      <th>Vietnamese</th>\n",
       "      <th>Welsh</th>\n",
       "      <th>Wine Bar</th>\n",
       "      <th>Xinjiang</th>\n",
       "      <th>Yunnan</th>\n",
       "    </tr>\n",
       "  </thead>\n",
       "  <tbody>\n",
       "    <tr>\n",
       "      <th>0</th>\n",
       "      <td>0</td>\n",
       "      <td>0</td>\n",
       "      <td>0</td>\n",
       "      <td>0</td>\n",
       "      <td>0</td>\n",
       "      <td>0</td>\n",
       "      <td>0</td>\n",
       "      <td>0</td>\n",
       "      <td>0</td>\n",
       "      <td>0</td>\n",
       "      <td>...</td>\n",
       "      <td>0</td>\n",
       "      <td>0</td>\n",
       "      <td>0</td>\n",
       "      <td>0</td>\n",
       "      <td>0</td>\n",
       "      <td>0</td>\n",
       "      <td>0</td>\n",
       "      <td>0</td>\n",
       "      <td>0</td>\n",
       "      <td>0</td>\n",
       "    </tr>\n",
       "    <tr>\n",
       "      <th>1</th>\n",
       "      <td>0</td>\n",
       "      <td>0</td>\n",
       "      <td>0</td>\n",
       "      <td>0</td>\n",
       "      <td>0</td>\n",
       "      <td>0</td>\n",
       "      <td>0</td>\n",
       "      <td>0</td>\n",
       "      <td>0</td>\n",
       "      <td>0</td>\n",
       "      <td>...</td>\n",
       "      <td>0</td>\n",
       "      <td>0</td>\n",
       "      <td>0</td>\n",
       "      <td>0</td>\n",
       "      <td>0</td>\n",
       "      <td>0</td>\n",
       "      <td>0</td>\n",
       "      <td>0</td>\n",
       "      <td>0</td>\n",
       "      <td>0</td>\n",
       "    </tr>\n",
       "    <tr>\n",
       "      <th>2</th>\n",
       "      <td>0</td>\n",
       "      <td>0</td>\n",
       "      <td>0</td>\n",
       "      <td>0</td>\n",
       "      <td>0</td>\n",
       "      <td>0</td>\n",
       "      <td>0</td>\n",
       "      <td>0</td>\n",
       "      <td>0</td>\n",
       "      <td>0</td>\n",
       "      <td>...</td>\n",
       "      <td>0</td>\n",
       "      <td>0</td>\n",
       "      <td>0</td>\n",
       "      <td>0</td>\n",
       "      <td>0</td>\n",
       "      <td>0</td>\n",
       "      <td>0</td>\n",
       "      <td>0</td>\n",
       "      <td>0</td>\n",
       "      <td>0</td>\n",
       "    </tr>\n",
       "    <tr>\n",
       "      <th>3</th>\n",
       "      <td>0</td>\n",
       "      <td>0</td>\n",
       "      <td>0</td>\n",
       "      <td>0</td>\n",
       "      <td>0</td>\n",
       "      <td>0</td>\n",
       "      <td>0</td>\n",
       "      <td>0</td>\n",
       "      <td>0</td>\n",
       "      <td>0</td>\n",
       "      <td>...</td>\n",
       "      <td>0</td>\n",
       "      <td>0</td>\n",
       "      <td>0</td>\n",
       "      <td>1</td>\n",
       "      <td>0</td>\n",
       "      <td>0</td>\n",
       "      <td>0</td>\n",
       "      <td>0</td>\n",
       "      <td>0</td>\n",
       "      <td>0</td>\n",
       "    </tr>\n",
       "    <tr>\n",
       "      <th>4</th>\n",
       "      <td>0</td>\n",
       "      <td>0</td>\n",
       "      <td>0</td>\n",
       "      <td>0</td>\n",
       "      <td>0</td>\n",
       "      <td>0</td>\n",
       "      <td>0</td>\n",
       "      <td>0</td>\n",
       "      <td>0</td>\n",
       "      <td>0</td>\n",
       "      <td>...</td>\n",
       "      <td>0</td>\n",
       "      <td>0</td>\n",
       "      <td>0</td>\n",
       "      <td>0</td>\n",
       "      <td>0</td>\n",
       "      <td>0</td>\n",
       "      <td>0</td>\n",
       "      <td>0</td>\n",
       "      <td>0</td>\n",
       "      <td>0</td>\n",
       "    </tr>\n",
       "    <tr>\n",
       "      <th>...</th>\n",
       "      <td>...</td>\n",
       "      <td>...</td>\n",
       "      <td>...</td>\n",
       "      <td>...</td>\n",
       "      <td>...</td>\n",
       "      <td>...</td>\n",
       "      <td>...</td>\n",
       "      <td>...</td>\n",
       "      <td>...</td>\n",
       "      <td>...</td>\n",
       "      <td>...</td>\n",
       "      <td>...</td>\n",
       "      <td>...</td>\n",
       "      <td>...</td>\n",
       "      <td>...</td>\n",
       "      <td>...</td>\n",
       "      <td>...</td>\n",
       "      <td>...</td>\n",
       "      <td>...</td>\n",
       "      <td>...</td>\n",
       "      <td>...</td>\n",
       "    </tr>\n",
       "    <tr>\n",
       "      <th>120</th>\n",
       "      <td>0</td>\n",
       "      <td>0</td>\n",
       "      <td>0</td>\n",
       "      <td>0</td>\n",
       "      <td>0</td>\n",
       "      <td>0</td>\n",
       "      <td>0</td>\n",
       "      <td>0</td>\n",
       "      <td>0</td>\n",
       "      <td>0</td>\n",
       "      <td>...</td>\n",
       "      <td>0</td>\n",
       "      <td>0</td>\n",
       "      <td>0</td>\n",
       "      <td>0</td>\n",
       "      <td>0</td>\n",
       "      <td>0</td>\n",
       "      <td>0</td>\n",
       "      <td>0</td>\n",
       "      <td>1</td>\n",
       "      <td>0</td>\n",
       "    </tr>\n",
       "    <tr>\n",
       "      <th>121</th>\n",
       "      <td>0</td>\n",
       "      <td>0</td>\n",
       "      <td>0</td>\n",
       "      <td>0</td>\n",
       "      <td>0</td>\n",
       "      <td>0</td>\n",
       "      <td>0</td>\n",
       "      <td>0</td>\n",
       "      <td>0</td>\n",
       "      <td>0</td>\n",
       "      <td>...</td>\n",
       "      <td>0</td>\n",
       "      <td>0</td>\n",
       "      <td>0</td>\n",
       "      <td>0</td>\n",
       "      <td>0</td>\n",
       "      <td>0</td>\n",
       "      <td>0</td>\n",
       "      <td>0</td>\n",
       "      <td>0</td>\n",
       "      <td>0</td>\n",
       "    </tr>\n",
       "    <tr>\n",
       "      <th>122</th>\n",
       "      <td>0</td>\n",
       "      <td>0</td>\n",
       "      <td>0</td>\n",
       "      <td>0</td>\n",
       "      <td>0</td>\n",
       "      <td>0</td>\n",
       "      <td>0</td>\n",
       "      <td>0</td>\n",
       "      <td>0</td>\n",
       "      <td>0</td>\n",
       "      <td>...</td>\n",
       "      <td>0</td>\n",
       "      <td>0</td>\n",
       "      <td>0</td>\n",
       "      <td>0</td>\n",
       "      <td>0</td>\n",
       "      <td>0</td>\n",
       "      <td>0</td>\n",
       "      <td>0</td>\n",
       "      <td>0</td>\n",
       "      <td>0</td>\n",
       "    </tr>\n",
       "    <tr>\n",
       "      <th>123</th>\n",
       "      <td>0</td>\n",
       "      <td>0</td>\n",
       "      <td>0</td>\n",
       "      <td>0</td>\n",
       "      <td>0</td>\n",
       "      <td>0</td>\n",
       "      <td>0</td>\n",
       "      <td>0</td>\n",
       "      <td>0</td>\n",
       "      <td>0</td>\n",
       "      <td>...</td>\n",
       "      <td>0</td>\n",
       "      <td>0</td>\n",
       "      <td>0</td>\n",
       "      <td>0</td>\n",
       "      <td>0</td>\n",
       "      <td>0</td>\n",
       "      <td>1</td>\n",
       "      <td>0</td>\n",
       "      <td>0</td>\n",
       "      <td>0</td>\n",
       "    </tr>\n",
       "    <tr>\n",
       "      <th>124</th>\n",
       "      <td>0</td>\n",
       "      <td>0</td>\n",
       "      <td>0</td>\n",
       "      <td>0</td>\n",
       "      <td>0</td>\n",
       "      <td>0</td>\n",
       "      <td>0</td>\n",
       "      <td>0</td>\n",
       "      <td>0</td>\n",
       "      <td>0</td>\n",
       "      <td>...</td>\n",
       "      <td>0</td>\n",
       "      <td>0</td>\n",
       "      <td>0</td>\n",
       "      <td>0</td>\n",
       "      <td>0</td>\n",
       "      <td>0</td>\n",
       "      <td>0</td>\n",
       "      <td>0</td>\n",
       "      <td>0</td>\n",
       "      <td>0</td>\n",
       "    </tr>\n",
       "  </tbody>\n",
       "</table>\n",
       "<p>125 rows × 125 columns</p>\n",
       "</div>"
      ],
      "text/plain": [
       "     Afghani  African  Albanian  American  Arabic  Argentinean  Armenian  \\\n",
       "0          0        0         0         0       0            0         0   \n",
       "1          0        0         0         0       0            0         0   \n",
       "2          0        0         0         0       0            0         0   \n",
       "3          0        0         0         0       0            0         0   \n",
       "4          0        0         0         0       0            0         0   \n",
       "..       ...      ...       ...       ...     ...          ...       ...   \n",
       "120        0        0         0         0       0            0         0   \n",
       "121        0        0         0         0       0            0         0   \n",
       "122        0        0         0         0       0            0         0   \n",
       "123        0        0         0         0       0            0         0   \n",
       "124        0        0         0         0       0            0         0   \n",
       "\n",
       "     Asian  Australian  Austrian  ...  Ukrainian  Uzbek  Vegan Options  \\\n",
       "0        0           0         0  ...          0      0              0   \n",
       "1        0           0         0  ...          0      0              0   \n",
       "2        0           0         0  ...          0      0              0   \n",
       "3        0           0         0  ...          0      0              0   \n",
       "4        0           0         0  ...          0      0              0   \n",
       "..     ...         ...       ...  ...        ...    ...            ...   \n",
       "120      0           0         0  ...          0      0              0   \n",
       "121      0           0         0  ...          0      0              0   \n",
       "122      0           0         0  ...          0      0              0   \n",
       "123      0           0         0  ...          0      0              0   \n",
       "124      0           0         0  ...          0      0              0   \n",
       "\n",
       "     Vegetarian Friendly  Venezuelan  Vietnamese  Welsh  Wine Bar  Xinjiang  \\\n",
       "0                      0           0           0      0         0         0   \n",
       "1                      0           0           0      0         0         0   \n",
       "2                      0           0           0      0         0         0   \n",
       "3                      1           0           0      0         0         0   \n",
       "4                      0           0           0      0         0         0   \n",
       "..                   ...         ...         ...    ...       ...       ...   \n",
       "120                    0           0           0      0         0         1   \n",
       "121                    0           0           0      0         0         0   \n",
       "122                    0           0           0      0         0         0   \n",
       "123                    0           0           0      1         0         0   \n",
       "124                    0           0           0      0         0         0   \n",
       "\n",
       "     Yunnan  \n",
       "0         0  \n",
       "1         0  \n",
       "2         0  \n",
       "3         0  \n",
       "4         0  \n",
       "..      ...  \n",
       "120       0  \n",
       "121       0  \n",
       "122       0  \n",
       "123       0  \n",
       "124       0  \n",
       "\n",
       "[125 rows x 125 columns]"
      ]
     },
     "execution_count": 594,
     "metadata": {},
     "output_type": "execute_result"
    }
   ],
   "source": [
    "#pd.get_dummies(pd.Series(cu))"
   ]
  },
  {
   "cell_type": "code",
   "execution_count": 56,
   "metadata": {},
   "outputs": [],
   "source": [
    "df.drop(['City','Cuisine_Style', 'Price_Range', 'Reviews', 'URL_TA', 'ID_TA', 'Reviews_date', \n",
    "         'Number_of_Reviews','date1','date2', 'Cuisine_Style_list', 'Price_Range'],inplace = True, axis = 1)"
   ]
  },
  {
   "cell_type": "code",
   "execution_count": 57,
   "metadata": {},
   "outputs": [
    {
     "name": "stdout",
     "output_type": "stream",
     "text": [
      "<class 'pandas.core.frame.DataFrame'>\n",
      "RangeIndex: 40000 entries, 0 to 39999\n",
      "Data columns (total 10 columns):\n",
      " #   Column               Non-Null Count  Dtype  \n",
      "---  ------               --------------  -----  \n",
      " 0   Restaurant_id        40000 non-null  object \n",
      " 1   Ranking              40000 non-null  float64\n",
      " 2   Rating               40000 non-null  float64\n",
      " 3   price                40000 non-null  object \n",
      " 4   population           40000 non-null  object \n",
      " 5   count_restrant_city  40000 non-null  object \n",
      " 6   days_publish         40000 non-null  float64\n",
      " 7   year1                40000 non-null  float64\n",
      " 8   year2                40000 non-null  float64\n",
      " 9   year_max             40000 non-null  float64\n",
      "dtypes: float64(6), object(4)\n",
      "memory usage: 3.1+ MB\n"
     ]
    }
   ],
   "source": [
    "df.info()"
   ]
  },
  {
   "cell_type": "markdown",
   "metadata": {},
   "source": [
    "# Разбиваем датафрейм на части, необходимые для обучения и тестирования модели"
   ]
  },
  {
   "cell_type": "code",
   "execution_count": null,
   "metadata": {},
   "outputs": [],
   "source": []
  },
  {
   "cell_type": "code",
   "execution_count": 58,
   "metadata": {},
   "outputs": [],
   "source": [
    "# Х - данные с информацией о ресторанах, у - целевая переменная (рейтинги ресторанов) 'Restaurant_id',\n",
    "X = df.drop(['Restaurant_id','Rating'], axis = 1)\n",
    "y = df['Rating']"
   ]
  },
  {
   "cell_type": "code",
   "execution_count": 59,
   "metadata": {},
   "outputs": [],
   "source": [
    "# Загружаем специальный инструмент для разбивки:\n",
    "from sklearn.model_selection import train_test_split"
   ]
  },
  {
   "cell_type": "code",
   "execution_count": 60,
   "metadata": {},
   "outputs": [],
   "source": [
    "# Наборы данных с меткой \"train\" будут использоваться для обучения модели, \"test\" - для тестирования.\n",
    "# Для тестирования мы будем использовать 25% от исходного датасета.\n",
    "X_train, X_test, y_train, y_test = train_test_split(X, y, test_size=0.25)"
   ]
  },
  {
   "cell_type": "markdown",
   "metadata": {},
   "source": [
    "# Создаём, обучаем и тестируем модель"
   ]
  },
  {
   "cell_type": "code",
   "execution_count": 61,
   "metadata": {},
   "outputs": [],
   "source": [
    "# Импортируем необходимые библиотеки:\n",
    "from sklearn.ensemble import RandomForestRegressor # инструмент для создания и обучения модели\n",
    "from sklearn import metrics # инструменты для оценки точности модели"
   ]
  },
  {
   "cell_type": "code",
   "execution_count": 62,
   "metadata": {},
   "outputs": [],
   "source": [
    "# Импортируем необходимые библиотеки:  \n",
    "from sklearn.ensemble import RandomForestRegressor # инструмент для создания и обучения модели  \n",
    "from sklearn import metrics # инструменты для оценки точности модели  \n",
    "      \n",
    "# Создаём модель  \n",
    "regr = RandomForestRegressor(n_estimators=100)  \n",
    "      \n",
    "# Обучаем модель на тестовом наборе данных  \n",
    "regr.fit(X_train, y_train)  \n",
    "      \n",
    "# Используем обученную модель для предсказания рейтинга ресторанов в тестовой выборке.  \n",
    "# Предсказанные значения записываем в переменную y_pred  \n",
    "y_pred = regr.predict(X_test)  "
   ]
  },
  {
   "cell_type": "code",
   "execution_count": 63,
   "metadata": {},
   "outputs": [
    {
     "name": "stdout",
     "output_type": "stream",
     "text": [
      "MAE: 0.29218299999999997\n"
     ]
    }
   ],
   "source": [
    "# Сравниваем предсказанные значения (y_pred) с реальными (y_test), и смотрим насколько они в среднем отличаются\n",
    "# Метрика называется Mean Absolute Error (MAE) и показывает среднее отклонение предсказанных значений от фактических.\n",
    "print('MAE:', metrics.mean_absolute_error(y_test, y_pred))"
   ]
  },
  {
   "cell_type": "code",
   "execution_count": null,
   "metadata": {},
   "outputs": [],
   "source": []
  }
 ],
 "metadata": {
  "kernelspec": {
   "display_name": "Python 3",
   "language": "python",
   "name": "python3"
  },
  "language_info": {
   "codemirror_mode": {
    "name": "ipython",
    "version": 3
   },
   "file_extension": ".py",
   "mimetype": "text/x-python",
   "name": "python",
   "nbconvert_exporter": "python",
   "pygments_lexer": "ipython3",
   "version": "3.8.5"
  }
 },
 "nbformat": 4,
 "nbformat_minor": 2
}
